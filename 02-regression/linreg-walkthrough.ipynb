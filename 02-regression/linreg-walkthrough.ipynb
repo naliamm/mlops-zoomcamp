{
 "cells": [
  {
   "cell_type": "code",
   "execution_count": 4,
   "id": "761b8eec-265f-4de0-9600-1217828dea6a",
   "metadata": {},
   "outputs": [],
   "source": [
    "import pandas as pd\n",
    "import numpy as np\n",
    "\n",
    "import matplotlib.pyplot as plt\n",
    "import seaborn as sns\n",
    "%matplotlib inline"
   ]
  },
  {
   "cell_type": "markdown",
   "id": "820be17f-c315-4838-87d2-54971bfd9217",
   "metadata": {},
   "source": [
    "## Data preparation and EDA"
   ]
  },
  {
   "cell_type": "code",
   "execution_count": 2,
   "id": "00802f0d-40f6-41b3-b92d-0f4dbe5231a1",
   "metadata": {},
   "outputs": [
    {
     "name": "stdout",
     "output_type": "stream",
     "text": [
      "--2025-10-07 11:41:58--  https://raw.githubusercontent.com/alexeygrigorev/mlbookcamp-code/master/chapter-02-car-price/data.csv\n",
      "Resolving raw.githubusercontent.com (raw.githubusercontent.com)... 185.199.111.133, 185.199.108.133, 185.199.109.133, ...\n",
      "Connecting to raw.githubusercontent.com (raw.githubusercontent.com)|185.199.111.133|:443... connected.\n",
      "HTTP request sent, awaiting response... 200 OK\n",
      "Length: 1475504 (1.4M) [text/plain]\n",
      "Saving to: ‘data.csv’\n",
      "\n",
      "data.csv            100%[===================>]   1.41M  --.-KB/s    in 0.008s  \n",
      "\n",
      "2025-10-07 11:41:58 (169 MB/s) - ‘data.csv’ saved [1475504/1475504]\n",
      "\n"
     ]
    }
   ],
   "source": [
    "data = 'https://raw.githubusercontent.com/alexeygrigorev/mlbookcamp-code/master/chapter-02-car-price/data.csv'\n",
    "!wget $data \n",
    "df = pd.read_csv('data.csv')"
   ]
  },
  {
   "cell_type": "code",
   "execution_count": 3,
   "id": "5b9de22b-ed8a-4716-95fb-3f9ffd8a613f",
   "metadata": {},
   "outputs": [],
   "source": [
    "df.columns = df.columns.str.lower().str.replace(' ', '_')\n",
    "df['make'].str.lower().str.replace(' ', '_')\n",
    "\n",
    "strings = list(df.dtypes[df.dtypes == 'object'].index)\n",
    "for col in strings:\n",
    "    df[col] = df[col].str.lower().str.replace(' ', '_')"
   ]
  },
  {
   "cell_type": "code",
   "execution_count": 5,
   "id": "72d76f8b-f92a-41a7-9af6-54469943232c",
   "metadata": {},
   "outputs": [
    {
     "data": {
      "text/plain": [
       "<Axes: xlabel='msrp', ylabel='Count'>"
      ]
     },
     "execution_count": 5,
     "metadata": {},
     "output_type": "execute_result"
    },
    {
     "data": {
      "image/png": "[encoded data removed]",
      "text/plain": [
       "<Figure size 640x480 with 1 Axes>"
      ]
     },
     "metadata": {},
     "output_type": "display_data"
    }
   ],
   "source": [
    "#sns.histplot(df.msrp, bins=50)\n",
    "\n",
    "# log1p adds 1 to all the values, to avoid log 0\n",
    "price_logs = np.log1p(df.msrp)\n",
    "sns.histplot(price_logs, bins=50)"
   ]
  },
  {
   "cell_type": "code",
   "execution_count": 6,
   "id": "4e72218f-a296-41a2-8c3d-c5cd96df7d56",
   "metadata": {},
   "outputs": [
    {
     "data": {
      "text/plain": [
       "make                    0\n",
       "model                   0\n",
       "year                    0\n",
       "engine_fuel_type        3\n",
       "engine_hp              69\n",
       "engine_cylinders       30\n",
       "transmission_type       0\n",
       "driven_wheels           0\n",
       "number_of_doors         6\n",
       "market_category      3742\n",
       "vehicle_size            0\n",
       "vehicle_style           0\n",
       "highway_mpg             0\n",
       "city_mpg                0\n",
       "popularity              0\n",
       "msrp                    0\n",
       "dtype: int64"
      ]
     },
     "execution_count": 6,
     "metadata": {},
     "output_type": "execute_result"
    }
   ],
   "source": [
    "df.isnull().sum()\n"
   ]
  },
  {
   "cell_type": "markdown",
   "id": "b81b7cc3-2272-4dac-820b-050ea4f9f055",
   "metadata": {},
   "source": [
    "## Split into train, validation, test set"
   ]
  },
  {
   "cell_type": "markdown",
   "id": "f2930d88-b15b-4aba-b41e-f65e5992d19c",
   "metadata": {},
   "source": [
    "# Use 60/20/20\n",
    "n = len(df)\n",
    "\n",
    "# Calculate how many total observations for the split\n",
    "n_val = int(n * 0.2)\n",
    "n_test = int(n * 0.2)\n",
    "n_train = n - n_val - n_test\n",
    "\n",
    "# Shuffle the index\n",
    "idx = np.arange(n)\n",
    "np.random.seed(2)\n",
    "np.random.shuffle(idx)\n",
    "\n",
    "df_train = df.iloc[idx[:n_train]]\n",
    "df_val = df.iloc[idx[n_train:n_train+n_val]]\n",
    "df_test = df.iloc[idx[n_train+n_val:]]\n",
    "\n",
    "# Reset the index\n",
    "df_train = df_train.reset_index(drop=True)\n",
    "df_val = df_val.reset_index(drop=True)\n",
    "df_test = df_test.reset_index(drop=True)"
   ]
  },
  {
   "cell_type": "code",
   "execution_count": 14,
   "id": "20f824e2-e877-4249-b7c1-f2e2ab8e8209",
   "metadata": {},
   "outputs": [],
   "source": [
    "# Note the log1p\n",
    "y_train = np.log1p(df_train.msrp.values)\n",
    "y_val = np.log1p(df_val.msrp.values)\n",
    "y_test = np.log1p(df_test.msrp.values)"
   ]
  },
  {
   "cell_type": "code",
   "execution_count": 15,
   "id": "cedde42e-32d5-4c11-851e-6c60540a434c",
   "metadata": {},
   "outputs": [],
   "source": [
    "# Delete the target variables from feature df\n",
    "del df_train['msrp']\n",
    "del df_val['msrp']\n",
    "del df_test['msrp']"
   ]
  },
  {
   "cell_type": "markdown",
   "id": "9b75072c-2ec0-431b-aeaa-bcd74ad08ece",
   "metadata": {},
   "source": [
    "## Linear regression model"
   ]
  },
  {
   "cell_type": "markdown",
   "id": "4121a49d-43ec-48b7-8339-c1e296917fdd",
   "metadata": {},
   "source": [
    "$$\n",
    "g(x_i) = w_0 + x_{i1} \\cdot w_1 + x_{i2} \\cdot w_2 + \\dots + x_{in} \\cdot w_n\n",
    "$$"
   ]
  },
  {
   "cell_type": "markdown",
   "id": "95ffee61-8bd4-4304-9f7b-36f77c9d361d",
   "metadata": {},
   "source": [
    "A model to predict $g(x_i)$ value where $w$ is weight. $w_0$ is the bias term when there is no information. All other features $x$ are multiplied by their corresponding weights $w$. The model can be summarized as below: $$\n",
    "g(x_i) = w_0 + \\sum_{j=1}^{n} w_j \\cdot x_{ij}\n",
    "$$"
   ]
  },
  {
   "cell_type": "markdown",
   "id": "705a90b6-02cd-4d1c-80a2-85eab95550d9",
   "metadata": {},
   "source": [
    "From the summarised model, we can see that this part $\\sum_{j=1}^{n} w_j \\cdot x_{ij}$ is a vector-vector multiplication or dot product which can further be simplied into: $$\n",
    "g(x_i) = w_0 + \\mathbf{x}_i^\\top \\mathbf{w}\n",
    "$$"
   ]
  },
  {
   "cell_type": "markdown",
   "id": "5ef3ceea-7409-4792-9c52-cc6275db34ee",
   "metadata": {},
   "source": [
    "This is the implementation of the model:"
   ]
  },
  {
   "cell_type": "code",
   "execution_count": 16,
   "id": "7f285f94-f237-4e00-8803-7acf129fec8d",
   "metadata": {},
   "outputs": [],
   "source": [
    "w0 = 7.1\n",
    "def linear_regression(xi):\n",
    "    \n",
    "    n = len(xi)\n",
    "    \n",
    "    pred = w0\n",
    "    w = [0.01, 0.04, 0.002]\n",
    "    for j in range(n):\n",
    "        pred = pred + w[j] * xi[j]\n",
    "    return pred"
   ]
  },
  {
   "cell_type": "code",
   "execution_count": 17,
   "id": "834a0258-3ec7-4514-862f-ab26c7d9c309",
   "metadata": {},
   "outputs": [
    {
     "data": {
      "text/plain": [
       "make                                 rolls-royce\n",
       "model                     phantom_drophead_coupe\n",
       "year                                        2015\n",
       "engine_fuel_type     premium_unleaded_(required)\n",
       "engine_hp                                  453.0\n",
       "engine_cylinders                            12.0\n",
       "transmission_type                      automatic\n",
       "driven_wheels                   rear_wheel_drive\n",
       "number_of_doors                              2.0\n",
       "market_category        exotic,luxury,performance\n",
       "vehicle_size                               large\n",
       "vehicle_style                        convertible\n",
       "highway_mpg                                   19\n",
       "city_mpg                                      11\n",
       "popularity                                    86\n",
       "Name: 10, dtype: object"
      ]
     },
     "execution_count": 17,
     "metadata": {},
     "output_type": "execute_result"
    }
   ],
   "source": [
    "# Example\n",
    "df_train.iloc[10]"
   ]
  },
  {
   "cell_type": "code",
   "execution_count": 18,
   "id": "aa4eb802-05a0-43c8-b883-ece748f45ff0",
   "metadata": {},
   "outputs": [
    {
     "data": {
      "text/plain": [
       "12.312"
      ]
     },
     "execution_count": 18,
     "metadata": {},
     "output_type": "execute_result"
    }
   ],
   "source": [
    "xi = [453, 11, 86]\n",
    "w0 = 7.17\n",
    "w = [0.01, 0.04, 0.002]\n",
    "\n",
    "linear_regression(xi)"
   ]
  },
  {
   "cell_type": "code",
   "execution_count": 20,
   "id": "9dde811a-1d2b-4e28-adc3-89ca49791638",
   "metadata": {},
   "outputs": [],
   "source": [
    "np.set_printoptions(legacy='1.25')"
   ]
  },
  {
   "cell_type": "code",
   "execution_count": 21,
   "id": "7a6be6ed-ad70-4801-94c1-b2bf639b29ea",
   "metadata": {},
   "outputs": [
    {
     "data": {
      "text/plain": [
       "222347.2221101062"
      ]
     },
     "execution_count": 21,
     "metadata": {},
     "output_type": "execute_result"
    }
   ],
   "source": [
    "np.expm1(12.312)"
   ]
  },
  {
   "cell_type": "markdown",
   "id": "fbedb83c-8746-436a-9786-3f0cddae5d45",
   "metadata": {},
   "source": [
    "Training the model is done using train set to estimate the weights."
   ]
  },
  {
   "cell_type": "markdown",
   "id": "45b0c3aa-25eb-4dfd-a130-43730aa57f52",
   "metadata": {},
   "source": [
    "## Train linear regression model"
   ]
  },
  {
   "cell_type": "markdown",
   "id": "ec99a06b-3d59-4792-a1a1-c4cd0fed20ce",
   "metadata": {},
   "source": [
    "$w$ can be approximated by: $$\n",
    "\\mathbf{w} = (X^\\top X)^{-1} X^\\top y\n",
    "$$"
   ]
  },
  {
   "cell_type": "code",
   "execution_count": 25,
   "id": "3b1c1a4d-88c3-4fdd-a88d-03cbb8e8e334",
   "metadata": {},
   "outputs": [],
   "source": [
    "def train_linear_regression(X, y):\n",
    "    ones = np.ones(X.shape[0])\n",
    "    X = np.column_stack([ones, X]) # Add bias term w_0 that is the baseline price of a car with no other information\n",
    "\n",
    "    XTX = X.T.dot(X)\n",
    "    XTX_inv = np.linalg.inv(XTX)\n",
    "    w_full = XTX_inv.dot(X.T).dot(y)\n",
    "    \n",
    "    return w_full[0], w_full[1:]"
   ]
  },
  {
   "cell_type": "code",
   "execution_count": 26,
   "id": "b812e530-3e5f-435a-9611-075da2dee702",
   "metadata": {},
   "outputs": [
    {
     "data": {
      "text/plain": [
       "(25844.754055766753, array([ -16.08906468, -199.47254894,   -1.22802883]))"
      ]
     },
     "execution_count": 26,
     "metadata": {},
     "output_type": "execute_result"
    }
   ],
   "source": [
    "X = [\n",
    "    [148, 24, 1385],\n",
    "    [132, 25, 2031],\n",
    "    [453, 11, 86],\n",
    "    [158, 24, 185],\n",
    "    [172, 25, 201],\n",
    "    [413, 11, 86],\n",
    "    [38,  54, 185],\n",
    "    [142, 25, 431],\n",
    "    [453, 31, 86],\n",
    "]\n",
    "\n",
    "X = np.array(X)\n",
    "y = [10000, 20000, 15000, 20050, 10000, 20000, 15000, 25000, 12000]\n",
    "\n",
    "train_linear_regression(X, y)"
   ]
  },
  {
   "cell_type": "markdown",
   "id": "c137927e-2b9d-4cf9-a4fc-366c25a102a8",
   "metadata": {},
   "source": [
    "The weights results can be read as the baseline car price, then each additional feature, can cause an increase/decrease in price by the respective feature weight."
   ]
  },
  {
   "cell_type": "markdown",
   "id": "25502edb-9db0-4f92-9a56-966a45d78d6a",
   "metadata": {},
   "source": [
    "Now, creating a baseline model using numerical features from the train dataset:"
   ]
  },
  {
   "cell_type": "code",
   "execution_count": 27,
   "id": "b0a0d4d5-ad63-41c8-86ec-e349a0a59760",
   "metadata": {},
   "outputs": [],
   "source": [
    "base = ['engine_hp', 'engine_cylinders', 'highway_mpg',\n",
    "        'city_mpg', 'popularity']\n",
    "\n",
    "X_train = df_train[base].fillna(0).values\n",
    "\n",
    "w0, w = train_linear_regression(X_train, y_train) # Note that we are training to get the weights\n",
    "\n",
    "y_pred = w0 + X_train.dot(w) # Then we use the weights to predict y using simplified LR"
   ]
  },
  {
   "cell_type": "code",
   "execution_count": 28,
   "id": "19ebe9b6-bb69-4d91-b706-b75f049c3bcb",
   "metadata": {},
   "outputs": [
    {
     "data": {
      "text/plain": [
       "(7.927257388069986,\n",
       " array([ 9.70589522e-03, -1.59103494e-01,  1.43792133e-02,  1.49441072e-02,\n",
       "        -9.06908672e-06]),\n",
       " array([ 9.54792783,  9.38733977,  9.67197758, ..., 10.30423015,\n",
       "        11.9778914 ,  9.99863111]))"
      ]
     },
     "execution_count": 28,
     "metadata": {},
     "output_type": "execute_result"
    }
   ],
   "source": [
    "w0, w, y_pred"
   ]
  },
  {
   "cell_type": "markdown",
   "id": "7c34245d-138a-44e8-b9e2-2e762513d265",
   "metadata": {},
   "source": [
    "## Evaluate using RMSE"
   ]
  },
  {
   "cell_type": "code",
   "execution_count": 29,
   "id": "f03e2ac2-661f-40fb-a2b2-9663918dc995",
   "metadata": {},
   "outputs": [],
   "source": [
    "def rmse(y, y_pred):\n",
    "    se = (y - y_pred) ** 2\n",
    "    mse = se.mean()\n",
    "    return np.sqrt(mse)"
   ]
  },
  {
   "cell_type": "code",
   "execution_count": 30,
   "id": "1dd4e487-e505-4e4e-a3b1-10d587178af7",
   "metadata": {},
   "outputs": [
    {
     "data": {
      "text/plain": [
       "0.7554192603920132"
      ]
     },
     "execution_count": 30,
     "metadata": {},
     "output_type": "execute_result"
    }
   ],
   "source": [
    "rmse(y_train, y_pred)"
   ]
  },
  {
   "cell_type": "markdown",
   "id": "6220efe7-bbc0-46a0-b13a-ea24fdc8e3ed",
   "metadata": {},
   "source": [
    "## Validate the model"
   ]
  },
  {
   "cell_type": "code",
   "execution_count": 31,
   "id": "4e215e96-624a-481b-906f-48459bc0dbaf",
   "metadata": {},
   "outputs": [],
   "source": [
    "def prepare_X(df):\n",
    "    df_num = df[base]\n",
    "    df_num = df_num.fillna(0)\n",
    "    X = df_num.values\n",
    "    return X"
   ]
  },
  {
   "cell_type": "code",
   "execution_count": 32,
   "id": "ecc59c7e-b639-4110-af63-713cc8910ce2",
   "metadata": {},
   "outputs": [
    {
     "data": {
      "text/plain": [
       "0.761653099130156"
      ]
     },
     "execution_count": 32,
     "metadata": {},
     "output_type": "execute_result"
    }
   ],
   "source": [
    "# Use training data to approximate weights\n",
    "X_train = prepare_X(df_train)\n",
    "w0, w = train_linear_regression(X_train, y_train)\n",
    "\n",
    "# Use those weights to validate\n",
    "X_val = prepare_X(df_val)\n",
    "y_pred = w0 + X_val.dot(w)\n",
    "\n",
    "# Evaluate\n",
    "rmse(y_val, y_pred)"
   ]
  },
  {
   "cell_type": "markdown",
   "id": "9a59eda1-9d45-42e9-b69d-2d83da952e5d",
   "metadata": {},
   "source": [
    "## Dealing with categorical variable"
   ]
  },
  {
   "cell_type": "code",
   "execution_count": 35,
   "id": "bd4e52f8-f392-4816-823e-4d2893c4e12f",
   "metadata": {},
   "outputs": [],
   "source": [
    "categorical_columns = [\n",
    "    'make', 'model', 'engine_fuel_type', 'driven_wheels', 'market_category',\n",
    "    'vehicle_size', 'vehicle_style']\n",
    "\n",
    "categorical = {}\n",
    "\n",
    "for c in categorical_columns:\n",
    "    categorical[c] = list(df_train[c].value_counts().head().index)"
   ]
  },
  {
   "cell_type": "code",
   "execution_count": 36,
   "id": "744ed122-c2c5-4439-9c05-23bebf0e4ab0",
   "metadata": {},
   "outputs": [],
   "source": [
    "def prepare_X(df):\n",
    "    df = df.copy()\n",
    "    \n",
    "    df['age'] = 2017 - df['year']\n",
    "    features = base + ['age']\n",
    "\n",
    "    for v in [2, 3, 4]:\n",
    "        df['num_doors_%d' % v] = (df.number_of_doors == v).astype(int)\n",
    "        features.append('num_doors_%d' % v)\n",
    "\n",
    "    for name, values in categorical.items():\n",
    "        for value in values:\n",
    "            df['%s_%s' % (name, value)] = (df[name] == value).astype(int)\n",
    "            features.append('%s_%s' % (name, value))\n",
    "\n",
    "    df_num = df[features]\n",
    "    df_num = df_num.fillna(0)\n",
    "    X = df_num.values\n",
    "\n",
    "    return X"
   ]
  },
  {
   "cell_type": "code",
   "execution_count": 37,
   "id": "5b03cdce-2576-4487-a78d-0065c94e4538",
   "metadata": {},
   "outputs": [
    {
     "data": {
      "text/plain": [
       "53.70370772576197"
      ]
     },
     "execution_count": 37,
     "metadata": {},
     "output_type": "execute_result"
    }
   ],
   "source": [
    "X_train = prepare_X(df_train)\n",
    "w0, w = train_linear_regression(X_train, y_train)\n",
    "\n",
    "X_val = prepare_X(df_val)\n",
    "y_pred = w0 + X_val.dot(w)\n",
    "rmse(y_val, y_pred)"
   ]
  },
  {
   "cell_type": "markdown",
   "id": "a2b36c1c-886a-4266-ae02-554a8c17bdd3",
   "metadata": {},
   "source": [
    "## Regularization"
   ]
  },
  {
   "cell_type": "markdown",
   "id": "cd1bc9df-bcd0-4499-8876-5159d99520c7",
   "metadata": {},
   "source": [
    "When there are duplicate columns on the feature matrix, we can add small number on the diagonal so that weights can be calculated appropriately. This is called regularization"
   ]
  },
  {
   "cell_type": "code",
   "execution_count": 38,
   "id": "b840fcf6-e7a0-4ed4-bf7e-0c6185efbf3a",
   "metadata": {},
   "outputs": [],
   "source": [
    "def train_linear_regression_reg(X, y, r=0.001):\n",
    "    ones = np.ones(X.shape[0])\n",
    "    X = np.column_stack([ones, X])\n",
    "\n",
    "    XTX = X.T.dot(X)\n",
    "    XTX = XTX + r * np.eye(XTX.shape[0]) # see here we add r\n",
    "\n",
    "    XTX_inv = np.linalg.inv(XTX)\n",
    "    w_full = XTX_inv.dot(X.T).dot(y)\n",
    "    \n",
    "    return w_full[0], w_full[1:]"
   ]
  },
  {
   "cell_type": "code",
   "execution_count": 39,
   "id": "2117ae1d-2a7e-4cd3-8685-ef29f61fa64b",
   "metadata": {},
   "outputs": [
    {
     "data": {
      "text/plain": [
       "0.4608208286551885"
      ]
     },
     "execution_count": 39,
     "metadata": {},
     "output_type": "execute_result"
    }
   ],
   "source": [
    "X_train = prepare_X(df_train)\n",
    "w0, w = train_linear_regression_reg(X_train, y_train, r=0.01)\n",
    "\n",
    "X_val = prepare_X(df_val)\n",
    "y_pred = w0 + X_val.dot(w)\n",
    "rmse(y_val, y_pred)"
   ]
  },
  {
   "cell_type": "markdown",
   "id": "4d9d1d99-3106-43c1-a6ae-194504c797b3",
   "metadata": {},
   "source": [
    "Next, we can tune the hyperparamter in the model. In this case we are tuning for r:"
   ]
  },
  {
   "cell_type": "code",
   "execution_count": 40,
   "id": "8970bb10-328f-4a98-87f6-ba1e534a6ffa",
   "metadata": {},
   "outputs": [
    {
     "name": "stdout",
     "output_type": "stream",
     "text": [
      "0.0 120883643437600.25 53.70370772576197\n",
      "1e-05 8.377536683531915 0.46081532306190714\n",
      "0.0001 7.139523156766516 0.4608153655817384\n",
      "0.001 7.1309028247366735 0.46081585855400226\n",
      "0.1 7.000232409563555 0.4608736549095069\n",
      "1 6.25074784766319 0.46158128382736374\n",
      "10 4.729512585705947 0.4726098772668833\n"
     ]
    }
   ],
   "source": [
    "for r in [0.0, 0.00001, 0.0001, 0.001, 0.1, 1, 10]:\n",
    "    X_train = prepare_X(df_train)\n",
    "    w0, w = train_linear_regression_reg(X_train, y_train, r=r)\n",
    "\n",
    "    X_val = prepare_X(df_val)\n",
    "    y_pred = w0 + X_val.dot(w)\n",
    "    score = rmse(y_val, y_pred)\n",
    "    \n",
    "    print(r, w0, score)"
   ]
  },
  {
   "cell_type": "code",
   "execution_count": 41,
   "id": "02213a7d-fc92-481c-9e99-e74134109328",
   "metadata": {},
   "outputs": [
    {
     "data": {
      "text/plain": [
       "0.46081585855400226"
      ]
     },
     "execution_count": 41,
     "metadata": {},
     "output_type": "execute_result"
    }
   ],
   "source": [
    "r = 0.001\n",
    "X_train = prepare_X(df_train)\n",
    "w0, w = train_linear_regression_reg(X_train, y_train, r=r)\n",
    "\n",
    "X_val = prepare_X(df_val)\n",
    "y_pred = w0 + X_val.dot(w)\n",
    "score = rmse(y_val, y_pred)\n",
    "score"
   ]
  },
  {
   "cell_type": "markdown",
   "id": "bea42cd9-fbdd-44fc-a678-db2b3e7407ba",
   "metadata": {},
   "source": [
    "## Use the model on test dataset"
   ]
  },
  {
   "cell_type": "code",
   "execution_count": 42,
   "id": "3755a3d8-4997-43d7-a4a6-7914a28cceac",
   "metadata": {},
   "outputs": [],
   "source": [
    "df_full_train = pd.concat([df_train, df_val])\n",
    "df_full_train = df_full_train.reset_index(drop=True)\n",
    "X_full_train = prepare_X(df_full_train)\n",
    "\n",
    "y_full_train = np.concatenate([y_train, y_val])"
   ]
  },
  {
   "cell_type": "code",
   "execution_count": 43,
   "id": "ac112658-21b7-4408-abc7-494e087873d9",
   "metadata": {},
   "outputs": [],
   "source": [
    "w0, w = train_linear_regression_reg(X_full_train, y_full_train, r=0.001)"
   ]
  },
  {
   "cell_type": "code",
   "execution_count": 44,
   "id": "8a3bc736-1c62-4fac-ac31-3392f21dfdcd",
   "metadata": {},
   "outputs": [
    {
     "data": {
      "text/plain": [
       "0.4600753970082232"
      ]
     },
     "execution_count": 44,
     "metadata": {},
     "output_type": "execute_result"
    }
   ],
   "source": [
    "X_test = prepare_X(df_test)\n",
    "y_pred = w0 + X_test.dot(w)\n",
    "score = rmse(y_test, y_pred)\n",
    "score"
   ]
  },
  {
   "cell_type": "code",
   "execution_count": 45,
   "id": "8aa0a36b-87d8-4288-96b2-16c0dd4421c7",
   "metadata": {},
   "outputs": [
    {
     "data": {
      "text/plain": [
       "{'make': 'toyota',\n",
       " 'model': 'sienna',\n",
       " 'year': 2015,\n",
       " 'engine_fuel_type': 'regular_unleaded',\n",
       " 'engine_hp': 266.0,\n",
       " 'engine_cylinders': 6.0,\n",
       " 'transmission_type': 'automatic',\n",
       " 'driven_wheels': 'front_wheel_drive',\n",
       " 'number_of_doors': 4.0,\n",
       " 'market_category': nan,\n",
       " 'vehicle_size': 'large',\n",
       " 'vehicle_style': 'passenger_minivan',\n",
       " 'highway_mpg': 25,\n",
       " 'city_mpg': 18,\n",
       " 'popularity': 2031}"
      ]
     },
     "execution_count": 45,
     "metadata": {},
     "output_type": "execute_result"
    }
   ],
   "source": [
    "# Real example test\n",
    "car = df_test.iloc[20].to_dict()\n",
    "car"
   ]
  },
  {
   "cell_type": "code",
   "execution_count": 46,
   "id": "115e62c3-7f37-4bff-80a6-574063cd3099",
   "metadata": {},
   "outputs": [
    {
     "data": {
      "text/plain": [
       "10.63249251496894"
      ]
     },
     "execution_count": 46,
     "metadata": {},
     "output_type": "execute_result"
    }
   ],
   "source": [
    "df_small = pd.DataFrame([car])\n",
    "\n",
    "X_small = prepare_X(df_small)\n",
    "\n",
    "y_pred = w0 + X_small.dot(w)\n",
    "y_pred = y_pred[0]\n",
    "y_pred"
   ]
  },
  {
   "cell_type": "code",
   "execution_count": 47,
   "id": "20f9d0ef-18e9-40b8-8256-4d72f1ab3f12",
   "metadata": {},
   "outputs": [
    {
     "data": {
      "text/plain": [
       "41459.337028846196"
      ]
     },
     "execution_count": 47,
     "metadata": {},
     "output_type": "execute_result"
    }
   ],
   "source": [
    "np.expm1(y_pred)"
   ]
  },
  {
   "cell_type": "code",
   "execution_count": 48,
   "id": "baa9d7b3-07ae-40a6-ac11-e74e78385921",
   "metadata": {},
   "outputs": [
    {
     "data": {
      "text/plain": [
       "35000.00000000001"
      ]
     },
     "execution_count": 48,
     "metadata": {},
     "output_type": "execute_result"
    }
   ],
   "source": [
    "np.expm1(y_test[20])"
   ]
  }
 ],
 "metadata": {
  "kernelspec": {
   "display_name": "Python 3 (ipykernel)",
   "language": "python",
   "name": "python3"
  },
  "language_info": {
   "codemirror_mode": {
    "name": "ipython",
    "version": 3
   },
   "file_extension": ".py",
   "mimetype": "text/x-python",
   "name": "python",
   "nbconvert_exporter": "python",
   "pygments_lexer": "ipython3",
   "version": "3.12.1"
  }
 },
 "nbformat": 4,
 "nbformat_minor": 5
}
